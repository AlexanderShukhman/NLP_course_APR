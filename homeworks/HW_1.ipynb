{
  "nbformat": 4,
  "nbformat_minor": 0,
  "metadata": {
    "colab": {
      "name": "HW 1.ipynb",
      "provenance": []
    },
    "kernelspec": {
      "name": "python3",
      "display_name": "Python 3"
    }
  },
  "cells": [
    {
      "cell_type": "markdown",
      "metadata": {
        "id": "9St8g_Q8NchO",
        "colab_type": "text"
      },
      "source": [
        "# Домашнее задание 1\n",
        "\n",
        "**Дедлайн:** 22 марта\n",
        "\n",
        "**Правила**\n",
        "- Домашнее задание может выполняться в группах 2-4 человека\n",
        "- Домашнее задание оформляется в виде отчета в python-тетрадке\n",
        "- Отчет должен содержать: нумерацию заданий и пунктов, которые вы выполнили, код решения, и понятное пошаговое описание того, что вы сделали. ***Весь код должен быть воспроизводимым.*** Отчет должен быть написан в академическом стиле, без излишнего использования сленга и с соблюдением норм русского языка.\n",
        "- Отчеты, состоящие исключительно из кода, и не содержащие выводов, не будут проверены и будут автоматически оценены нулевой оценкой.\n",
        "- Плагиат и любое недобросоветсное цитирование приводит к обнулению оценки.\n",
        "\n",
        "**В начале ноутбука не забудьте написать, кем было выполнено задание.**"
      ]
    },
    {
      "cell_type": "markdown",
      "metadata": {
        "id": "GdVNiitLfQjZ",
        "colab_type": "text"
      },
      "source": [
        "## Задание\n",
        "\n",
        "Мы будем работать с корпусом новостей с сайта lenta.ru\n",
        "\n",
        "Код ниже скачивает данные (только если вы работаете в колабе или на MacOS! если вы работаете на собственных ноутбуках, и у вас стоит Windows, скачайте данные самостоятельно отсюда: https://www.dropbox.com/s/kdupcw1llbdbqwl/lenta-ru-train.csv?dl=0)\n",
        "\n"
      ]
    },
    {
      "cell_type": "code",
      "metadata": {
        "id": "iGkpvuPJHMD7",
        "colab_type": "code",
        "outputId": "fa58c213-a8b7-4f5c-b025-d06fbe0ebd17",
        "colab": {
          "base_uri": "https://localhost:8080/",
          "height": 357
        }
      },
      "source": [
        "! wget -O lenta-ru.csv https://www.dropbox.com/s/kdupcw1llbdbqwl/lenta-ru-train.csv?dl=0"
      ],
      "execution_count": 1,
      "outputs": [
        {
          "output_type": "stream",
          "text": [
            "--2020-03-01 13:05:23--  https://www.dropbox.com/s/kdupcw1llbdbqwl/lenta-ru-train.csv?dl=0\n",
            "Resolving www.dropbox.com (www.dropbox.com)... 162.125.9.1, 2620:100:601f:1::a27d:901\n",
            "Connecting to www.dropbox.com (www.dropbox.com)|162.125.9.1|:443... connected.\n",
            "HTTP request sent, awaiting response... 301 Moved Permanently\n",
            "Location: /s/raw/kdupcw1llbdbqwl/lenta-ru-train.csv [following]\n",
            "--2020-03-01 13:05:28--  https://www.dropbox.com/s/raw/kdupcw1llbdbqwl/lenta-ru-train.csv\n",
            "Reusing existing connection to www.dropbox.com:443.\n",
            "HTTP request sent, awaiting response... 302 Found\n",
            "Location: https://uc6521c4b10f32da7fcf5af44476.dl.dropboxusercontent.com/cd/0/inline/AzFmo8Y8N4PKTsQ_nl34iYQaSmBwWrkLfK6jFgSwIQK5-RF63FTnxlmunuw-1K_tIl5i3jvlz0l233TbxFB_06MgZj6DvrhyJMQ0l87BSa7K11riRSfLSwywyV1QXbD0CwA/file# [following]\n",
            "--2020-03-01 13:05:28--  https://uc6521c4b10f32da7fcf5af44476.dl.dropboxusercontent.com/cd/0/inline/AzFmo8Y8N4PKTsQ_nl34iYQaSmBwWrkLfK6jFgSwIQK5-RF63FTnxlmunuw-1K_tIl5i3jvlz0l233TbxFB_06MgZj6DvrhyJMQ0l87BSa7K11riRSfLSwywyV1QXbD0CwA/file\n",
            "Resolving uc6521c4b10f32da7fcf5af44476.dl.dropboxusercontent.com (uc6521c4b10f32da7fcf5af44476.dl.dropboxusercontent.com)... 162.125.9.6, 2620:100:601f:6::a27d:906\n",
            "Connecting to uc6521c4b10f32da7fcf5af44476.dl.dropboxusercontent.com (uc6521c4b10f32da7fcf5af44476.dl.dropboxusercontent.com)|162.125.9.6|:443... connected.\n",
            "HTTP request sent, awaiting response... 200 OK\n",
            "Length: 517902316 (494M) [text/plain]\n",
            "Saving to: ‘lenta-ru.csv’\n",
            "\n",
            "lenta-ru.csv        100%[===================>] 493.91M  86.7MB/s    in 5.6s    \n",
            "\n",
            "2020-03-01 13:05:35 (87.9 MB/s) - ‘lenta-ru.csv’ saved [517902316/517902316]\n",
            "\n"
          ],
          "name": "stdout"
        }
      ]
    },
    {
      "cell_type": "markdown",
      "metadata": {
        "id": "u9SqrZWxM5Yo",
        "colab_type": "text"
      },
      "source": [
        "В данных 4 поля:\n",
        "- title : заголовок новости / статьи\n",
        "- text : текст новости / статьи\n",
        "- topic : тема, в которой новость / статья была опубликована (Экономика, Культура, Спорт, Бизнес, Наука и техника)\n",
        "- topic_label : поле topic, закодированное числом"
      ]
    },
    {
      "cell_type": "code",
      "metadata": {
        "id": "cIe5cT0PfCVQ",
        "colab_type": "code",
        "outputId": "90670e23-eb0b-482b-8442-22fe49b62f7e",
        "colab": {
          "base_uri": "https://localhost:8080/",
          "height": 204
        }
      },
      "source": [
        "import pandas as pd\n",
        "\n",
        "lenta = pd.read_csv('lenta-ru.csv')\n",
        "lenta.head()"
      ],
      "execution_count": 2,
      "outputs": [
        {
          "output_type": "execute_result",
          "data": {
            "text/html": [
              "<div>\n",
              "<style scoped>\n",
              "    .dataframe tbody tr th:only-of-type {\n",
              "        vertical-align: middle;\n",
              "    }\n",
              "\n",
              "    .dataframe tbody tr th {\n",
              "        vertical-align: top;\n",
              "    }\n",
              "\n",
              "    .dataframe thead th {\n",
              "        text-align: right;\n",
              "    }\n",
              "</style>\n",
              "<table border=\"1\" class=\"dataframe\">\n",
              "  <thead>\n",
              "    <tr style=\"text-align: right;\">\n",
              "      <th></th>\n",
              "      <th>title</th>\n",
              "      <th>text</th>\n",
              "      <th>topic</th>\n",
              "      <th>topic_label</th>\n",
              "    </tr>\n",
              "  </thead>\n",
              "  <tbody>\n",
              "    <tr>\n",
              "      <th>0</th>\n",
              "      <td>Инфляция в январе 2006 года составит 2,6 процента</td>\n",
              "      <td>Глава Росстата Владимир Соколин заявил, что в ...</td>\n",
              "      <td>Экономика</td>\n",
              "      <td>0</td>\n",
              "    </tr>\n",
              "    <tr>\n",
              "      <th>1</th>\n",
              "      <td>Никита Михалков учредил День российского кино</td>\n",
              "      <td>У российских кинематографистов  появится новый...</td>\n",
              "      <td>Культура</td>\n",
              "      <td>3</td>\n",
              "    </tr>\n",
              "    <tr>\n",
              "      <th>2</th>\n",
              "      <td>Марко Матерацци вернется в строй к матчу с ЦСКА</td>\n",
              "      <td>Медицинский штаб миланского \"Интера\" обнародов...</td>\n",
              "      <td>Спорт</td>\n",
              "      <td>1</td>\n",
              "    </tr>\n",
              "    <tr>\n",
              "      <th>3</th>\n",
              "      <td>Определены лауреаты премии \"Книга года\"</td>\n",
              "      <td>Премии \"Книга года\" в 13 номинациях вручены на...</td>\n",
              "      <td>Культура</td>\n",
              "      <td>3</td>\n",
              "    </tr>\n",
              "    <tr>\n",
              "      <th>4</th>\n",
              "      <td>Гол Роналду со штрафного спас португальцев от ...</td>\n",
              "      <td>Сборная Португалии сыграла вничью с командой И...</td>\n",
              "      <td>Спорт</td>\n",
              "      <td>1</td>\n",
              "    </tr>\n",
              "  </tbody>\n",
              "</table>\n",
              "</div>"
            ],
            "text/plain": [
              "                                               title  ... topic_label\n",
              "0  Инфляция в январе 2006 года составит 2,6 процента  ...           0\n",
              "1      Никита Михалков учредил День российского кино  ...           3\n",
              "2    Марко Матерацци вернется в строй к матчу с ЦСКА  ...           1\n",
              "3            Определены лауреаты премии \"Книга года\"  ...           3\n",
              "4  Гол Роналду со штрафного спас португальцев от ...  ...           1\n",
              "\n",
              "[5 rows x 4 columns]"
            ]
          },
          "metadata": {
            "tags": []
          },
          "execution_count": 2
        }
      ]
    },
    {
      "cell_type": "code",
      "metadata": {
        "id": "-mjzi8bHgpzE",
        "colab_type": "code",
        "outputId": "dd5862aa-8023-4cf4-f92a-c62e43462b3a",
        "colab": {
          "base_uri": "https://localhost:8080/",
          "height": 119
        }
      },
      "source": [
        "lenta.topic.value_counts()"
      ],
      "execution_count": 0,
      "outputs": [
        {
          "output_type": "execute_result",
          "data": {
            "text/plain": [
              "Экономика          63693\n",
              "Спорт              51396\n",
              "Культура           43077\n",
              "Наука и техника    42507\n",
              "Бизнес              5964\n",
              "Name: topic, dtype: int64"
            ]
          },
          "metadata": {
            "tags": []
          },
          "execution_count": 34
        }
      ]
    },
    {
      "cell_type": "code",
      "metadata": {
        "id": "GFcXQnfVjPNm",
        "colab_type": "code",
        "outputId": "50cb8fc3-0840-424b-ac68-648f8cf7e11e",
        "colab": {
          "base_uri": "https://localhost:8080/",
          "height": 34
        }
      },
      "source": [
        "len(lenta)"
      ],
      "execution_count": 0,
      "outputs": [
        {
          "output_type": "execute_result",
          "data": {
            "text/plain": [
              "206637"
            ]
          },
          "metadata": {
            "tags": []
          },
          "execution_count": 35
        }
      ]
    },
    {
      "cell_type": "markdown",
      "metadata": {
        "id": "GgOcmxniPH6S",
        "colab_type": "text"
      },
      "source": [
        "\n"
      ]
    },
    {
      "cell_type": "markdown",
      "metadata": {
        "id": "ec2Rhb0uOaJj",
        "colab_type": "text"
      },
      "source": [
        "### Задание 1 : частотный анализ [20/100 баллов]\n",
        "\n",
        "\n",
        "*   Найдите топ-20 по частоте слов: без учета и с учетом стоп-слов.\n",
        "*   Найдите топ-20 по частоте существительных, прилагательных, глаголов.\n",
        "*   Найдите топ-20 по частоте биграмм.\n",
        "*   (бонус) Найдите топ-20 по частоте пар существительное + прилагательное (идущих в тексте подряд).\n",
        "\n",
        "\n",
        "\n",
        "### Задание 2 [50/100 баллов]\n",
        "\n",
        "\n",
        "1. Получите из датасета корпус текста, объединив заголовки (title) с текстами (text) в единый корпус.\n",
        "2. Проведите стандартный препроцессинг полученного корпуса: удалите небуквенные символы, переведите текст в lower case, сделайте лемматизацию, удалите стоп-слова.\n",
        "3. Обучите на предобработанном корпусе модель word2vec (назовем ее model_1).\n",
        "4. Продемонстрируйте, как работает поиск синонимов, ассоциаций, лишних слов в обученной модели model_1 (приведите по 3-4 интересных, на ваш взгляд, примера на каждую задачу, если вы увидите какие-то зависимости, характерные для корпуса новостей, или ошибки модели, прокомментируйте их) .\n",
        "5. Визуализируйте топ-1000 слов по частоте без учета стоп-слов с помощью TSNE или UMAP (https://umap-learn.readthedocs.io).\n",
        "6. Скачайте с сайта RusVectores (https://rusvectores.org/ru/models/) любую предобученныю модель word2vec для русского языка (назовем ее model_2) и сравните задачи поиска синонимов, ассоциаций, лишних слов из п. 4 для обученной вами модели (model_1) и предобученной (model_2). Попробуйте привести примеры, где поведение моделей отличается, и прокомментируйте их.\n",
        "\n",
        "\n",
        "\n",
        "### Задание 3 [30/100 баллов]\n",
        "\n",
        "\n",
        "\n",
        "1.   Обучите три тематических модели: одну на всем корпусе, и две на подкорпусах из текстов одной темы (topic), например, одну модель для текстов темы Бизнес, другую - для темы Экономика (выберите две темы, котрые вам нравятся).\n",
        "2.   Визуализируйте все три полученных модели с помощью pyLDAvis, прокомментируйте полученные результаты.\n",
        "\n",
        "\n",
        "\n"
      ]
    }
  ]
}